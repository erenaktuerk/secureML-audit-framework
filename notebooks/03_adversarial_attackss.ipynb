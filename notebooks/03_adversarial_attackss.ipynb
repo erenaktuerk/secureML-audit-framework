{
 "cells": [
  {
   "cell_type": "markdown",
   "id": "c451d140",
   "metadata": {},
   "source": [
    "# Cell 1 - Notebook introduction (Markdown)\n",
    "# This notebook simulates basic adversarial attacks on a trained credit risk model.\n",
    "# Small input manipulations are used to test the robustness of the model."
   ]
  },
  {
   "cell_type": "code",
   "execution_count": 7,
   "id": "a4b009a1",
   "metadata": {},
   "outputs": [
    {
     "name": "stderr",
     "output_type": "stream",
     "text": [
      "Downloading artifacts: 100%|██████████| 7/7 [00:00<00:00, 440.57it/s]\n"
     ]
    }
   ],
   "source": [
    "# Cell 2 - Imports and data loading\n",
    "import numpy as np\n",
    "import matplotlib.pyplot as plt\n",
    "from sklearn.metrics import classification_report\n",
    "import os\n",
    "os.chdir(\"..\")\n",
    "\n",
    "from src.model_trainer import train_model\n",
    "from src.data_loader import load_and_preprocess_data\n",
    "\n",
    "# Load preprocessed data\n",
    "X_train, X_test, y_train, y_test = load_and_preprocess_data()\n",
    "model = train_model(X_train, y_train)"
   ]
  },
  {
   "cell_type": "code",
   "execution_count": 8,
   "id": "481b9dfb",
   "metadata": {},
   "outputs": [
    {
     "name": "stdout",
     "output_type": "stream",
     "text": [
      "Original sample prediction: 1\n"
     ]
    }
   ],
   "source": [
    "# Cell 3 - Select a positive (risky) sample from test data\n",
    "# We choose a sample that the model predicts as \"default\" (label 1)\n",
    "\n",
    "# Get the index of the first sample the model classifies as '1' (risky)\n",
    "sample_idx = np.where(model.predict(X_test) == 1)[0][0]\n",
    "\n",
    "# Copy the sample from the test set (X_test is a NumPy array)\n",
    "sample = X_test[sample_idx].copy()\n",
    "\n",
    "# Predict again to verify correctness\n",
    "print(\"Original sample prediction:\", model.predict([sample])[0])"
   ]
  },
  {
   "cell_type": "code",
   "execution_count": 9,
   "id": "00184a4a",
   "metadata": {},
   "outputs": [
    {
     "name": "stdout",
     "output_type": "stream",
     "text": [
      "Adversarial sample prediction: 1\n"
     ]
    }
   ],
   "source": [
    "# Cell 4 - Apply adversarial perturbation to input features\n",
    "# Reduce scaled 'credit_amount' and 'duration' to try to fool the model\n",
    "\n",
    "sample_adv = sample.copy()\n",
    "\n",
    "# Assuming column order is the same as original DataFrame after preprocessing\n",
    "# You must access the correct indices of 'credit_amount' and 'duration'\n",
    "# Let's say:\n",
    "# credit_amount index = 4\n",
    "# duration index = 5\n",
    "sample_adv[4] *= 0.85  # scaled credit amount\n",
    "sample_adv[5] *= 0.7   # scaled duration\n",
    "\n",
    "print(\"Adversarial sample prediction:\", model.predict([sample_adv])[0])"
   ]
  },
  {
   "cell_type": "code",
   "execution_count": 10,
   "id": "88958713",
   "metadata": {},
   "outputs": [
    {
     "name": "stdout",
     "output_type": "stream",
     "text": [
      "Original prediction: 1\n",
      "Adversarial prediction: 1\n"
     ]
    }
   ],
   "source": [
    "# Cell 5 - Compare original and adversarial predictions\n",
    "print(\"Original prediction:\", model.predict([sample])[0])\n",
    "print(\"Adversarial prediction:\", model.predict([sample_adv])[0])"
   ]
  },
  {
   "cell_type": "markdown",
   "id": "20f1845f",
   "metadata": {},
   "source": [
    "# Cell 6 - Conclusion (Markdown)\n",
    "# Even small changes to input values can flip the prediction of the model.\n",
    "# This underlines the importance of adversarial robustness, especially in financial decision systems."
   ]
  }
 ],
 "metadata": {
  "kernelspec": {
   "display_name": "venv",
   "language": "python",
   "name": "python3"
  },
  "language_info": {
   "codemirror_mode": {
    "name": "ipython",
    "version": 3
   },
   "file_extension": ".py",
   "mimetype": "text/x-python",
   "name": "python",
   "nbconvert_exporter": "python",
   "pygments_lexer": "ipython3",
   "version": "3.10.16"
  }
 },
 "nbformat": 4,
 "nbformat_minor": 5
}
