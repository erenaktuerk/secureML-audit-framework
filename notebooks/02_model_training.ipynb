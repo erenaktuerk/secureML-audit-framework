{
 "cells": [
  {
   "cell_type": "markdown",
   "id": "6ec72d19",
   "metadata": {},
   "source": [
    "# Cell 1 - Markdown\n",
    "# 02 – Model Training\n",
    "\n",
    "In this notebook, we train a Random Forest classifier on the prepared German Credit Risk dataset.  \n",
    "We log the model and key parameters using MLflow for tracking and reproducibility."
   ]
  },
  {
   "cell_type": "code",
   "execution_count": null,
   "id": "6399c9f1",
   "metadata": {},
   "outputs": [],
   "source": []
  },
  {
   "cell_type": "code",
   "execution_count": 1,
   "id": "41c2edc5",
   "metadata": {},
   "outputs": [
    {
     "name": "stdout",
     "output_type": "stream",
     "text": [
      "Correlation of numerical features with 'Default':\n",
      "Default         1.000000\n",
      "Creditamount    0.712551\n",
      "Duration        0.651003\n",
      "Job             0.171398\n",
      "Age             0.007017\n",
      "Unnamed:0      -0.007473\n",
      "Name: Default, dtype: float64\n"
     ]
    }
   ],
   "source": [
    "# Cell 1 - Load data and compute correlations with proxy target\n",
    "\n",
    "import pandas as pd\n",
    "from pathlib import Path\n",
    "\n",
    "# Define the path to the CSV file relative to the notebook (one level up from 'notebooks/')\n",
    "project_root = Path.cwd().parent\n",
    "csv_path = project_root / \"data\" / \"credit.csv\"\n",
    "\n",
    "# Load the dataset\n",
    "df = pd.read_csv(csv_path)\n",
    "\n",
    "# Standardize column names: strip spaces, remove hyphens, and capitalize consistently\n",
    "df.columns = df.columns.str.strip().str.replace(\" \", \"\").str.replace(\"-\", \"\").str.capitalize()\n",
    "\n",
    "# Create a proxy target variable if not already present\n",
    "# Default = 1 if CreditAmount > 5000 and Duration > 24 months\n",
    "df[\"Default\"] = ((df[\"Creditamount\"] > 5000) & (df[\"Duration\"] > 24)).astype(int)\n",
    "\n",
    "# Select only numerical columns (including 'Default')\n",
    "numerical_df = df.select_dtypes(include=[\"number\"])\n",
    "\n",
    "# Compute correlation of numerical features with 'Default'\n",
    "correlations = numerical_df.corr(numeric_only=True)[\"Default\"].sort_values(ascending=False)\n",
    "\n",
    "# Output correlations\n",
    "print(\"Correlation of numerical features with 'Default':\")\n",
    "print(correlations)"
   ]
  },
  {
   "cell_type": "code",
   "execution_count": 2,
   "id": "e78294ff",
   "metadata": {},
   "outputs": [],
   "source": [
    "# Cell 2 - Code: Imports and setup\n",
    "import os\n",
    "import mlflow\n",
    "import joblib\n",
    "from sklearn.ensemble import RandomForestClassifier\n",
    "\n",
    "os.chdir(\"..\")\n",
    "\n",
    "mlruns_path = os.path.abspath(\"mlruns\").replace(\"\\\\\", \"/\")\n",
    "mlflow.set_tracking_uri(f\"file:///{mlruns_path}\")\n",
    "mlflow.set_experiment(\"SecureML Credit Model\")\n",
    "\n",
    "from src.data_loader import load_and_preprocess_data"
   ]
  },
  {
   "cell_type": "code",
   "execution_count": 3,
   "id": "9bcc5eae",
   "metadata": {},
   "outputs": [
    {
     "name": "stdout",
     "output_type": "stream",
     "text": [
      "Current working directory: C:\\Users\\eren_\\OneDrive\\Desktop\\secureML-audit-framework\n",
      "Using data file: C:/Users/eren_/OneDrive/Desktop/secureML-audit-framework/data/credit.csv\n",
      "Training data shape: (800, 9)\n",
      "Test data shape: (200, 9)\n"
     ]
    }
   ],
   "source": [
    "# Cell 3 - Code: Load preprocessed data\n",
    "import os\n",
    "\n",
    "# Wechsle in den Projektordner\n",
    "os.chdir(r\"C:\\Users\\eren_\\OneDrive\\Desktop\\secureML-audit-framework\")\n",
    "print(\"Current working directory:\", os.getcwd())\n",
    "\n",
    "data_path = os.path.abspath(\"data/credit.csv\").replace(\"\\\\\", \"/\")\n",
    "print(\"Using data file:\", data_path)\n",
    "\n",
    "X_train, X_test, y_train, y_test = load_and_preprocess_data(path=data_path)\n",
    "\n",
    "print(\"Training data shape:\", X_train.shape)\n",
    "print(\"Test data shape:\", X_test.shape)"
   ]
  },
  {
   "cell_type": "code",
   "execution_count": 4,
   "id": "108f1dab",
   "metadata": {},
   "outputs": [
    {
     "name": "stderr",
     "output_type": "stream",
     "text": [
      "2025/06/29 17:07:04 WARNING mlflow.models.model: `artifact_path` is deprecated. Please use `name` instead.\n",
      "c:\\Users\\eren_\\OneDrive\\Desktop\\secureML-audit-framework\\venv\\lib\\site-packages\\tqdm\\auto.py:21: TqdmWarning: IProgress not found. Please update jupyter and ipywidgets. See https://ipywidgets.readthedocs.io/en/stable/user_install.html\n",
      "  from .autonotebook import tqdm as notebook_tqdm\n",
      "Downloading artifacts: 100%|██████████| 7/7 [00:00<?, ?it/s]\n"
     ]
    },
    {
     "name": "stdout",
     "output_type": "stream",
     "text": [
      "Model trained and logged successfully.\n"
     ]
    }
   ],
   "source": [
    "# Cell 4 - Code: Train model and log with MLflow\n",
    "import os\n",
    "\n",
    "def train_model(X_train, y_train):\n",
    "    with mlflow.start_run():\n",
    "        model = RandomForestClassifier(n_estimators=100, random_state=42)\n",
    "        model.fit(X_train, y_train)\n",
    "\n",
    "        # Log model with input example to avoid warnings\n",
    "        mlflow.sklearn.log_model(\n",
    "            model, \n",
    "            \"model\", \n",
    "            input_example=X_train.iloc[:5] if hasattr(X_train, \"iloc\") else X_train[:5]\n",
    "        )\n",
    "        mlflow.log_param(\"n_estimators\", 100)\n",
    "        mlflow.log_param(\"model_type\", \"RandomForest\")\n",
    "\n",
    "        # Ensure 'models' directory exists\n",
    "        os.makedirs(\"models\", exist_ok=True)\n",
    "        # Save model locally\n",
    "        joblib.dump(model, \"models/rf_model.joblib\")\n",
    "\n",
    "    return model\n",
    "\n",
    "model = train_model(X_train, y_train)\n",
    "print(\"Model trained and logged successfully.\")"
   ]
  },
  {
   "cell_type": "code",
   "execution_count": 5,
   "id": "6ca2d42c",
   "metadata": {},
   "outputs": [
    {
     "name": "stdout",
     "output_type": "stream",
     "text": [
      "CV Accuracy: 0.999 ± 0.002\n",
      "CV F1 Score: 0.999 ± 0.002\n",
      "CV ROC AUC: 1.000 ± 0.000\n"
     ]
    }
   ],
   "source": [
    "from sklearn.model_selection import cross_val_score, StratifiedKFold\n",
    "from sklearn.metrics import make_scorer, accuracy_score, roc_auc_score, f1_score\n",
    "import numpy as np\n",
    "\n",
    "model = RandomForestClassifier(n_estimators=100, random_state=42)\n",
    "\n",
    "# Stratified K-Fold sorgt für gleichmäßige Klassenverteilung in den Folds\n",
    "cv = StratifiedKFold(n_splits=5, shuffle=True, random_state=42)\n",
    "\n",
    "# Accuracy\n",
    "acc_scores = cross_val_score(model, X_train, y_train, cv=cv, scoring='accuracy')\n",
    "\n",
    "# F1-Score (binary)\n",
    "f1_scores = cross_val_score(model, X_train, y_train, cv=cv, scoring='f1')\n",
    "\n",
    "# ROC AUC (nur für binäre Klassifikation)\n",
    "roc_auc_scores = cross_val_score(model, X_train, y_train, cv=cv, scoring='roc_auc')\n",
    "\n",
    "print(f\"CV Accuracy: {np.mean(acc_scores):.3f} ± {np.std(acc_scores):.3f}\")\n",
    "print(f\"CV F1 Score: {np.mean(f1_scores):.3f} ± {np.std(f1_scores):.3f}\")\n",
    "print(f\"CV ROC AUC: {np.mean(roc_auc_scores):.3f} ± {np.std(roc_auc_scores):.3f}\")"
   ]
  },
  {
   "cell_type": "code",
   "execution_count": 6,
   "id": "2e1e3939",
   "metadata": {},
   "outputs": [
    {
     "name": "stderr",
     "output_type": "stream",
     "text": [
      "2025/06/29 17:07:15 WARNING mlflow.models.model: `artifact_path` is deprecated. Please use `name` instead.\n",
      "2025/06/29 17:07:20 WARNING mlflow.models.model: Model logged without a signature and input example. Please set `input_example` parameter when logging the model to auto infer the model signature.\n"
     ]
    },
    {
     "name": "stdout",
     "output_type": "stream",
     "text": [
      "Model trained and logged successfully.\n"
     ]
    }
   ],
   "source": [
    "# Cell 5 - Code: Train model and log with MLflow\n",
    "from sklearn.ensemble import RandomForestClassifier\n",
    "import joblib\n",
    "import mlflow.sklearn\n",
    "import os\n",
    "\n",
    "# Stelle sicher, dass Ordner zum Speichern existiert\n",
    "os.makedirs(\"models\", exist_ok=True)\n",
    "\n",
    "def train_model(X_train, y_train):\n",
    "    with mlflow.start_run():\n",
    "        model = RandomForestClassifier(n_estimators=100, random_state=42)\n",
    "        model.fit(X_train, y_train)\n",
    "\n",
    "        # Logge Modell, Parameter und Typ\n",
    "        mlflow.sklearn.log_model(model, artifact_path=\"model\")\n",
    "        mlflow.log_param(\"n_estimators\", 100)\n",
    "        mlflow.log_param(\"model_type\", \"RandomForest\")\n",
    "\n",
    "        # Speichere lokal\n",
    "        joblib.dump(model, \"models/rf_model.joblib\")\n",
    "    \n",
    "    print(\"Model trained and logged successfully.\")\n",
    "    return model\n",
    "\n",
    "# Modell trainieren\n",
    "model = train_model(X_train, y_train)"
   ]
  },
  {
   "cell_type": "code",
   "execution_count": 7,
   "id": "8699f66f",
   "metadata": {},
   "outputs": [
    {
     "name": "stdout",
     "output_type": "stream",
     "text": [
      "Accuracy: 1.0000\n",
      "ROC-AUC Score: 1.0000\n",
      "Precision-Recall AUC: 1.0000\n",
      "\n",
      "Classification Report:\n",
      "               precision    recall  f1-score   support\n",
      "\n",
      "           0       1.00      1.00      1.00        59\n",
      "           1       1.00      1.00      1.00       141\n",
      "\n",
      "    accuracy                           1.00       200\n",
      "   macro avg       1.00      1.00      1.00       200\n",
      "weighted avg       1.00      1.00      1.00       200\n",
      "\n"
     ]
    },
    {
     "data": {
      "image/png": "[encoded data removed]",
      "text/plain": [
       "<Figure size 500x400 with 1 Axes>"
      ]
     },
     "metadata": {},
     "output_type": "display_data"
    },
    {
     "data": {
      "image/png": "[encoded data removed]",
      "text/plain": [
       "<Figure size 600x400 with 1 Axes>"
      ]
     },
     "metadata": {},
     "output_type": "display_data"
    }
   ],
   "source": [
    "# Cell 6 - Code: Extended Model Evaluation\n",
    "import matplotlib.pyplot as plt\n",
    "import seaborn as sns\n",
    "from sklearn.metrics import (\n",
    "    classification_report,\n",
    "    accuracy_score,\n",
    "    roc_auc_score,\n",
    "    confusion_matrix,\n",
    "    precision_recall_curve,\n",
    "    auc\n",
    ")\n",
    "\n",
    "# Vorhersagen\n",
    "y_pred = model.predict(X_test)\n",
    "y_proba = model.predict_proba(X_test)[:, 1]\n",
    "\n",
    "# Metriken\n",
    "acc = accuracy_score(y_test, y_pred)\n",
    "roc_auc = roc_auc_score(y_test, y_proba)\n",
    "precision, recall, _ = precision_recall_curve(y_test, y_proba)\n",
    "pr_auc = auc(recall, precision)\n",
    "\n",
    "print(f\"Accuracy: {acc:.4f}\")\n",
    "print(f\"ROC-AUC Score: {roc_auc:.4f}\")\n",
    "print(f\"Precision-Recall AUC: {pr_auc:.4f}\")\n",
    "print(\"\\nClassification Report:\\n\", classification_report(y_test, y_pred))\n",
    "\n",
    "# Confusion Matrix\n",
    "plt.figure(figsize=(5,4))\n",
    "sns.heatmap(confusion_matrix(y_test, y_pred), annot=True, fmt=\"d\", cmap=\"Blues\", cbar=False)\n",
    "plt.title(\"Confusion Matrix\")\n",
    "plt.xlabel(\"Predicted\")\n",
    "plt.ylabel(\"Actual\")\n",
    "plt.show()\n",
    "\n",
    "# Precision-Recall Curve\n",
    "plt.figure(figsize=(6,4))\n",
    "plt.plot(recall, precision, marker='.', label=f'PR AUC = {pr_auc:.2f}')\n",
    "plt.title('Precision-Recall Curve')\n",
    "plt.xlabel('Recall')\n",
    "plt.ylabel('Precision')\n",
    "plt.legend()\n",
    "plt.grid()\n",
    "plt.tight_layout()\n",
    "plt.show()"
   ]
  },
  {
   "cell_type": "code",
   "execution_count": null,
   "id": "4890a23e",
   "metadata": {},
   "outputs": [],
   "source": []
  }
 ],
 "metadata": {
  "kernelspec": {
   "display_name": "venv",
   "language": "python",
   "name": "python3"
  },
  "language_info": {
   "codemirror_mode": {
    "name": "ipython",
    "version": 3
   },
   "file_extension": ".py",
   "mimetype": "text/x-python",
   "name": "python",
   "nbconvert_exporter": "python",
   "pygments_lexer": "ipython3",
   "version": "3.10.16"
  }
 },
 "nbformat": 4,
 "nbformat_minor": 5
}
