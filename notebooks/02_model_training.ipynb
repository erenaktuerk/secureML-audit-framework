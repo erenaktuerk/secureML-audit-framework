{
 "cells": [
  {
   "cell_type": "markdown",
   "id": "6ec72d19",
   "metadata": {},
   "source": [
    "# Cell 1 - Markdown\n",
    "# 02 – Model Training\n",
    "\n",
    "In this notebook, we train a Random Forest classifier on the prepared German Credit Risk dataset.  \n",
    "We log the model and key parameters using MLflow for tracking and reproducibility."
   ]
  },
  {
   "cell_type": "code",
   "execution_count": null,
   "id": "6399c9f1",
   "metadata": {},
   "outputs": [],
   "source": []
  },
  {
   "cell_type": "code",
   "execution_count": null,
   "id": "41c2edc5",
   "metadata": {},
   "outputs": [
    {
     "name": "stdout",
     "output_type": "stream",
     "text": [
      "Index(['Status', 'Duration', 'CreditHistory', 'Purpose', 'Credit amount',\n",
      "       'Savings', 'EmploymentSince', 'InstallmentRate', 'PersonalStatusSex',\n",
      "       'OtherDebtors', 'ResidenceSince', 'Property', 'Age',\n",
      "       'OtherInstallmentPlans', 'Housing', 'NumberCredits', 'Job',\n",
      "       'LiablePeople', 'Telephone', 'ForeignWorker', 'default'],\n",
      "      dtype='object')\n",
      "Correlation of numerical features with 'default':\n",
      "default            1.000000\n",
      "Credit amount      0.712551\n",
      "Duration           0.651003\n",
      "NumberCredits      0.065858\n",
      "Age                0.007017\n",
      "LiablePeople      -0.001844\n",
      "ResidenceSince    -0.010397\n",
      "InstallmentRate   -0.113024\n",
      "Name: default, dtype: float64\n"
     ]
    }
   ],
   "source": [
    "import pandas as pd\n",
    "\n",
    "# Nehme an, du hast den kompletten DataFrame df noch geladen\n",
    "# Wenn nicht, lade ihn noch einmal (Pfad anpassen):\n",
    "import os\n",
    "import pandas as pd\n",
    "\n",
    "df = pd.read_csv(os.path.abspath(\"data/credit.csv\"))\n",
    "print(df.columns)\n",
    "# Proxy-Label (falls noch nicht vorhanden)\n",
    "# Erstelle das Target wie gehabt\n",
    "df[\"default\"] = ((df[\"CreditAmount\"] > 5000) & (df[\"Duration\"] > 24)).astype(int)\n",
    "\n",
    "# Nur numerische Spalten auswählen (inkl. 'default')\n",
    "numerical_df = df.select_dtypes(include=[\"number\"])\n",
    "\n",
    "# Korrelation mit 'default' berechnen\n",
    "correlations = numerical_df.corr()[\"default\"].sort_values(ascending=False)\n",
    "\n",
    "print(\"Correlation of numerical features with 'default':\")\n",
    "print(correlations)"
   ]
  },
  {
   "cell_type": "code",
   "execution_count": 48,
   "id": "e78294ff",
   "metadata": {},
   "outputs": [],
   "source": [
    "# Cell 2 - Code: Imports and setup\n",
    "import os\n",
    "import mlflow\n",
    "import joblib\n",
    "from sklearn.ensemble import RandomForestClassifier\n",
    "\n",
    "os.chdir(\"..\")\n",
    "\n",
    "mlruns_path = os.path.abspath(\"mlruns\").replace(\"\\\\\", \"/\")\n",
    "mlflow.set_tracking_uri(f\"file:///{mlruns_path}\")\n",
    "mlflow.set_experiment(\"SecureML Credit Model\")\n",
    "\n",
    "from src.data_loader import load_and_preprocess_data"
   ]
  },
  {
   "cell_type": "code",
   "execution_count": 49,
   "id": "9bcc5eae",
   "metadata": {},
   "outputs": [
    {
     "name": "stdout",
     "output_type": "stream",
     "text": [
      "Current working directory: C:\\Users\\eren_\\OneDrive\\Desktop\\secureML-audit-framework\n",
      "Using data file: C:/Users/eren_/OneDrive/Desktop/secureML-audit-framework/data/credit.csv\n"
     ]
    },
    {
     "ename": "KeyError",
     "evalue": "'Sex'",
     "output_type": "error",
     "traceback": [
      "\u001b[1;31m---------------------------------------------------------------------------\u001b[0m",
      "\u001b[1;31mKeyError\u001b[0m                                  Traceback (most recent call last)",
      "File \u001b[1;32mc:\\Users\\eren_\\OneDrive\\Desktop\\secureML-audit-framework\\venv\\lib\\site-packages\\pandas\\core\\indexes\\base.py:3812\u001b[0m, in \u001b[0;36mIndex.get_loc\u001b[1;34m(self, key)\u001b[0m\n\u001b[0;32m   3811\u001b[0m \u001b[38;5;28;01mtry\u001b[39;00m:\n\u001b[1;32m-> 3812\u001b[0m     \u001b[38;5;28;01mreturn\u001b[39;00m \u001b[38;5;28;43mself\u001b[39;49m\u001b[38;5;241;43m.\u001b[39;49m\u001b[43m_engine\u001b[49m\u001b[38;5;241;43m.\u001b[39;49m\u001b[43mget_loc\u001b[49m\u001b[43m(\u001b[49m\u001b[43mcasted_key\u001b[49m\u001b[43m)\u001b[49m\n\u001b[0;32m   3813\u001b[0m \u001b[38;5;28;01mexcept\u001b[39;00m \u001b[38;5;167;01mKeyError\u001b[39;00m \u001b[38;5;28;01mas\u001b[39;00m err:\n",
      "File \u001b[1;32mpandas/_libs/index.pyx:167\u001b[0m, in \u001b[0;36mpandas._libs.index.IndexEngine.get_loc\u001b[1;34m()\u001b[0m\n",
      "File \u001b[1;32mpandas/_libs/index.pyx:196\u001b[0m, in \u001b[0;36mpandas._libs.index.IndexEngine.get_loc\u001b[1;34m()\u001b[0m\n",
      "File \u001b[1;32mpandas/_libs/hashtable_class_helper.pxi:7088\u001b[0m, in \u001b[0;36mpandas._libs.hashtable.PyObjectHashTable.get_item\u001b[1;34m()\u001b[0m\n",
      "File \u001b[1;32mpandas/_libs/hashtable_class_helper.pxi:7096\u001b[0m, in \u001b[0;36mpandas._libs.hashtable.PyObjectHashTable.get_item\u001b[1;34m()\u001b[0m\n",
      "\u001b[1;31mKeyError\u001b[0m: 'Sex'",
      "\nThe above exception was the direct cause of the following exception:\n",
      "\u001b[1;31mKeyError\u001b[0m                                  Traceback (most recent call last)",
      "Cell \u001b[1;32mIn[49], line 11\u001b[0m\n\u001b[0;32m      8\u001b[0m data_path \u001b[38;5;241m=\u001b[39m os\u001b[38;5;241m.\u001b[39mpath\u001b[38;5;241m.\u001b[39mabspath(\u001b[38;5;124m\"\u001b[39m\u001b[38;5;124mdata/credit.csv\u001b[39m\u001b[38;5;124m\"\u001b[39m)\u001b[38;5;241m.\u001b[39mreplace(\u001b[38;5;124m\"\u001b[39m\u001b[38;5;130;01m\\\\\u001b[39;00m\u001b[38;5;124m\"\u001b[39m, \u001b[38;5;124m\"\u001b[39m\u001b[38;5;124m/\u001b[39m\u001b[38;5;124m\"\u001b[39m)\n\u001b[0;32m      9\u001b[0m \u001b[38;5;28mprint\u001b[39m(\u001b[38;5;124m\"\u001b[39m\u001b[38;5;124mUsing data file:\u001b[39m\u001b[38;5;124m\"\u001b[39m, data_path)\n\u001b[1;32m---> 11\u001b[0m X_train, X_test, y_train, y_test \u001b[38;5;241m=\u001b[39m \u001b[43mload_and_preprocess_data\u001b[49m\u001b[43m(\u001b[49m\u001b[43mpath\u001b[49m\u001b[38;5;241;43m=\u001b[39;49m\u001b[43mdata_path\u001b[49m\u001b[43m)\u001b[49m\n\u001b[0;32m     13\u001b[0m \u001b[38;5;28mprint\u001b[39m(\u001b[38;5;124m\"\u001b[39m\u001b[38;5;124mTraining data shape:\u001b[39m\u001b[38;5;124m\"\u001b[39m, X_train\u001b[38;5;241m.\u001b[39mshape)\n\u001b[0;32m     14\u001b[0m \u001b[38;5;28mprint\u001b[39m(\u001b[38;5;124m\"\u001b[39m\u001b[38;5;124mTest data shape:\u001b[39m\u001b[38;5;124m\"\u001b[39m, X_test\u001b[38;5;241m.\u001b[39mshape)\n",
      "File \u001b[1;32mc:\\Users\\eren_\\OneDrive\\Desktop\\secureML-audit-framework\\src\\data_loader.py:20\u001b[0m, in \u001b[0;36mload_and_preprocess_data\u001b[1;34m(path)\u001b[0m\n\u001b[0;32m     18\u001b[0m cat_cols \u001b[38;5;241m=\u001b[39m [\u001b[38;5;124m\"\u001b[39m\u001b[38;5;124mSex\u001b[39m\u001b[38;5;124m\"\u001b[39m, \u001b[38;5;124m\"\u001b[39m\u001b[38;5;124mHousing\u001b[39m\u001b[38;5;124m\"\u001b[39m, \u001b[38;5;124m\"\u001b[39m\u001b[38;5;124mSaving accounts\u001b[39m\u001b[38;5;124m\"\u001b[39m, \u001b[38;5;124m\"\u001b[39m\u001b[38;5;124mChecking account\u001b[39m\u001b[38;5;124m\"\u001b[39m, \u001b[38;5;124m\"\u001b[39m\u001b[38;5;124mPurpose\u001b[39m\u001b[38;5;124m\"\u001b[39m]\n\u001b[0;32m     19\u001b[0m \u001b[38;5;28;01mfor\u001b[39;00m col \u001b[38;5;129;01min\u001b[39;00m cat_cols:\n\u001b[1;32m---> 20\u001b[0m     df[col] \u001b[38;5;241m=\u001b[39m \u001b[43mdf\u001b[49m\u001b[43m[\u001b[49m\u001b[43mcol\u001b[49m\u001b[43m]\u001b[49m\u001b[38;5;241m.\u001b[39mfillna(\u001b[38;5;124m\"\u001b[39m\u001b[38;5;124munknown\u001b[39m\u001b[38;5;124m\"\u001b[39m)\n\u001b[0;32m     21\u001b[0m     df[col] \u001b[38;5;241m=\u001b[39m LabelEncoder()\u001b[38;5;241m.\u001b[39mfit_transform(df[col])\n\u001b[0;32m     23\u001b[0m \u001b[38;5;66;03m# Features / Target\u001b[39;00m\n",
      "File \u001b[1;32mc:\\Users\\eren_\\OneDrive\\Desktop\\secureML-audit-framework\\venv\\lib\\site-packages\\pandas\\core\\frame.py:4107\u001b[0m, in \u001b[0;36mDataFrame.__getitem__\u001b[1;34m(self, key)\u001b[0m\n\u001b[0;32m   4105\u001b[0m \u001b[38;5;28;01mif\u001b[39;00m \u001b[38;5;28mself\u001b[39m\u001b[38;5;241m.\u001b[39mcolumns\u001b[38;5;241m.\u001b[39mnlevels \u001b[38;5;241m>\u001b[39m \u001b[38;5;241m1\u001b[39m:\n\u001b[0;32m   4106\u001b[0m     \u001b[38;5;28;01mreturn\u001b[39;00m \u001b[38;5;28mself\u001b[39m\u001b[38;5;241m.\u001b[39m_getitem_multilevel(key)\n\u001b[1;32m-> 4107\u001b[0m indexer \u001b[38;5;241m=\u001b[39m \u001b[38;5;28;43mself\u001b[39;49m\u001b[38;5;241;43m.\u001b[39;49m\u001b[43mcolumns\u001b[49m\u001b[38;5;241;43m.\u001b[39;49m\u001b[43mget_loc\u001b[49m\u001b[43m(\u001b[49m\u001b[43mkey\u001b[49m\u001b[43m)\u001b[49m\n\u001b[0;32m   4108\u001b[0m \u001b[38;5;28;01mif\u001b[39;00m is_integer(indexer):\n\u001b[0;32m   4109\u001b[0m     indexer \u001b[38;5;241m=\u001b[39m [indexer]\n",
      "File \u001b[1;32mc:\\Users\\eren_\\OneDrive\\Desktop\\secureML-audit-framework\\venv\\lib\\site-packages\\pandas\\core\\indexes\\base.py:3819\u001b[0m, in \u001b[0;36mIndex.get_loc\u001b[1;34m(self, key)\u001b[0m\n\u001b[0;32m   3814\u001b[0m     \u001b[38;5;28;01mif\u001b[39;00m \u001b[38;5;28misinstance\u001b[39m(casted_key, \u001b[38;5;28mslice\u001b[39m) \u001b[38;5;129;01mor\u001b[39;00m (\n\u001b[0;32m   3815\u001b[0m         \u001b[38;5;28misinstance\u001b[39m(casted_key, abc\u001b[38;5;241m.\u001b[39mIterable)\n\u001b[0;32m   3816\u001b[0m         \u001b[38;5;129;01mand\u001b[39;00m \u001b[38;5;28many\u001b[39m(\u001b[38;5;28misinstance\u001b[39m(x, \u001b[38;5;28mslice\u001b[39m) \u001b[38;5;28;01mfor\u001b[39;00m x \u001b[38;5;129;01min\u001b[39;00m casted_key)\n\u001b[0;32m   3817\u001b[0m     ):\n\u001b[0;32m   3818\u001b[0m         \u001b[38;5;28;01mraise\u001b[39;00m InvalidIndexError(key)\n\u001b[1;32m-> 3819\u001b[0m     \u001b[38;5;28;01mraise\u001b[39;00m \u001b[38;5;167;01mKeyError\u001b[39;00m(key) \u001b[38;5;28;01mfrom\u001b[39;00m\u001b[38;5;250m \u001b[39m\u001b[38;5;21;01merr\u001b[39;00m\n\u001b[0;32m   3820\u001b[0m \u001b[38;5;28;01mexcept\u001b[39;00m \u001b[38;5;167;01mTypeError\u001b[39;00m:\n\u001b[0;32m   3821\u001b[0m     \u001b[38;5;66;03m# If we have a listlike key, _check_indexing_error will raise\u001b[39;00m\n\u001b[0;32m   3822\u001b[0m     \u001b[38;5;66;03m#  InvalidIndexError. Otherwise we fall through and re-raise\u001b[39;00m\n\u001b[0;32m   3823\u001b[0m     \u001b[38;5;66;03m#  the TypeError.\u001b[39;00m\n\u001b[0;32m   3824\u001b[0m     \u001b[38;5;28mself\u001b[39m\u001b[38;5;241m.\u001b[39m_check_indexing_error(key)\n",
      "\u001b[1;31mKeyError\u001b[0m: 'Sex'"
     ]
    }
   ],
   "source": [
    "# Cell 3 - Code: Load preprocessed data\n",
    "import os\n",
    "\n",
    "# Wechsle in den Projektordner\n",
    "os.chdir(r\"C:\\Users\\eren_\\OneDrive\\Desktop\\secureML-audit-framework\")\n",
    "print(\"Current working directory:\", os.getcwd())\n",
    "\n",
    "data_path = os.path.abspath(\"data/credit.csv\").replace(\"\\\\\", \"/\")\n",
    "print(\"Using data file:\", data_path)\n",
    "\n",
    "X_train, X_test, y_train, y_test = load_and_preprocess_data(path=data_path)\n",
    "\n",
    "print(\"Training data shape:\", X_train.shape)\n",
    "print(\"Test data shape:\", X_test.shape)"
   ]
  },
  {
   "cell_type": "code",
   "execution_count": null,
   "id": "108f1dab",
   "metadata": {},
   "outputs": [
    {
     "name": "stderr",
     "output_type": "stream",
     "text": [
      "2025/06/27 21:29:46 WARNING mlflow.models.model: `artifact_path` is deprecated. Please use `name` instead.\n",
      "Downloading artifacts: 100%|██████████| 7/7 [00:00<00:00, 314.02it/s]\n"
     ]
    },
    {
     "name": "stdout",
     "output_type": "stream",
     "text": [
      "Model trained and logged successfully.\n"
     ]
    }
   ],
   "source": [
    "# Cell 4 - Code: Train model and log with MLflow\n",
    "import os\n",
    "\n",
    "def train_model(X_train, y_train):\n",
    "    with mlflow.start_run():\n",
    "        model = RandomForestClassifier(n_estimators=100, random_state=42)\n",
    "        model.fit(X_train, y_train)\n",
    "\n",
    "        # Log model with input example to avoid warnings\n",
    "        mlflow.sklearn.log_model(\n",
    "            model, \n",
    "            \"model\", \n",
    "            input_example=X_train.iloc[:5] if hasattr(X_train, \"iloc\") else X_train[:5]\n",
    "        )\n",
    "        mlflow.log_param(\"n_estimators\", 100)\n",
    "        mlflow.log_param(\"model_type\", \"RandomForest\")\n",
    "\n",
    "        # Ensure 'models' directory exists\n",
    "        os.makedirs(\"models\", exist_ok=True)\n",
    "        # Save model locally\n",
    "        joblib.dump(model, \"models/rf_model.joblib\")\n",
    "\n",
    "    return model\n",
    "\n",
    "model = train_model(X_train, y_train)\n",
    "print(\"Model trained and logged successfully.\")"
   ]
  },
  {
   "cell_type": "code",
   "execution_count": null,
   "id": "6ca2d42c",
   "metadata": {},
   "outputs": [
    {
     "name": "stdout",
     "output_type": "stream",
     "text": [
      "CV Accuracy: 0.997 ± 0.003\n",
      "CV F1 Score: 0.990 ± 0.013\n",
      "CV ROC AUC: 1.000 ± 0.000\n"
     ]
    }
   ],
   "source": [
    "from sklearn.model_selection import cross_val_score, StratifiedKFold\n",
    "from sklearn.metrics import make_scorer, accuracy_score, roc_auc_score, f1_score\n",
    "import numpy as np\n",
    "\n",
    "model = RandomForestClassifier(n_estimators=100, random_state=42)\n",
    "\n",
    "# Stratified K-Fold sorgt für gleichmäßige Klassenverteilung in den Folds\n",
    "cv = StratifiedKFold(n_splits=5, shuffle=True, random_state=42)\n",
    "\n",
    "# Accuracy\n",
    "acc_scores = cross_val_score(model, X_train, y_train, cv=cv, scoring='accuracy')\n",
    "\n",
    "# F1-Score (binary)\n",
    "f1_scores = cross_val_score(model, X_train, y_train, cv=cv, scoring='f1')\n",
    "\n",
    "# ROC AUC (nur für binäre Klassifikation)\n",
    "roc_auc_scores = cross_val_score(model, X_train, y_train, cv=cv, scoring='roc_auc')\n",
    "\n",
    "print(f\"CV Accuracy: {np.mean(acc_scores):.3f} ± {np.std(acc_scores):.3f}\")\n",
    "print(f\"CV F1 Score: {np.mean(f1_scores):.3f} ± {np.std(f1_scores):.3f}\")\n",
    "print(f\"CV ROC AUC: {np.mean(roc_auc_scores):.3f} ± {np.std(roc_auc_scores):.3f}\")"
   ]
  },
  {
   "cell_type": "code",
   "execution_count": null,
   "id": "2e1e3939",
   "metadata": {},
   "outputs": [
    {
     "name": "stderr",
     "output_type": "stream",
     "text": [
      "2025/06/27 21:30:00 WARNING mlflow.models.model: `artifact_path` is deprecated. Please use `name` instead.\n",
      "2025/06/27 21:30:09 WARNING mlflow.models.model: Model logged without a signature and input example. Please set `input_example` parameter when logging the model to auto infer the model signature.\n"
     ]
    },
    {
     "name": "stdout",
     "output_type": "stream",
     "text": [
      "Model trained and logged successfully.\n"
     ]
    }
   ],
   "source": [
    "# Cell 5 - Code: Train model and log with MLflow\n",
    "from sklearn.ensemble import RandomForestClassifier\n",
    "import joblib\n",
    "import mlflow.sklearn\n",
    "import os\n",
    "\n",
    "# Stelle sicher, dass Ordner zum Speichern existiert\n",
    "os.makedirs(\"models\", exist_ok=True)\n",
    "\n",
    "def train_model(X_train, y_train):\n",
    "    with mlflow.start_run():\n",
    "        model = RandomForestClassifier(n_estimators=100, random_state=42)\n",
    "        model.fit(X_train, y_train)\n",
    "\n",
    "        # Logge Modell, Parameter und Typ\n",
    "        mlflow.sklearn.log_model(model, artifact_path=\"model\")\n",
    "        mlflow.log_param(\"n_estimators\", 100)\n",
    "        mlflow.log_param(\"model_type\", \"RandomForest\")\n",
    "\n",
    "        # Speichere lokal\n",
    "        joblib.dump(model, \"models/rf_model.joblib\")\n",
    "    \n",
    "    print(\"Model trained and logged successfully.\")\n",
    "    return model\n",
    "\n",
    "# Modell trainieren\n",
    "model = train_model(X_train, y_train)"
   ]
  },
  {
   "cell_type": "code",
   "execution_count": null,
   "id": "8699f66f",
   "metadata": {},
   "outputs": [
    {
     "name": "stdout",
     "output_type": "stream",
     "text": [
      "Accuracy: 1.0000\n",
      "ROC-AUC Score: 1.0000\n",
      "Precision-Recall AUC: 1.0000\n",
      "\n",
      "Classification Report:\n",
      "               precision    recall  f1-score   support\n",
      "\n",
      "           0       1.00      1.00      1.00       176\n",
      "           1       1.00      1.00      1.00        24\n",
      "\n",
      "    accuracy                           1.00       200\n",
      "   macro avg       1.00      1.00      1.00       200\n",
      "weighted avg       1.00      1.00      1.00       200\n",
      "\n"
     ]
    },
    {
     "data": {
      "image/png": "[encoded data removed]",
      "text/plain": [
       "<Figure size 500x400 with 1 Axes>"
      ]
     },
     "metadata": {},
     "output_type": "display_data"
    },
    {
     "data": {
      "image/png": "[encoded data removed]",
      "text/plain": [
       "<Figure size 600x400 with 1 Axes>"
      ]
     },
     "metadata": {},
     "output_type": "display_data"
    }
   ],
   "source": [
    "# Cell 6 - Code: Extended Model Evaluation\n",
    "import matplotlib.pyplot as plt\n",
    "import seaborn as sns\n",
    "from sklearn.metrics import (\n",
    "    classification_report,\n",
    "    accuracy_score,\n",
    "    roc_auc_score,\n",
    "    confusion_matrix,\n",
    "    precision_recall_curve,\n",
    "    auc\n",
    ")\n",
    "\n",
    "# Vorhersagen\n",
    "y_pred = model.predict(X_test)\n",
    "y_proba = model.predict_proba(X_test)[:, 1]\n",
    "\n",
    "# Metriken\n",
    "acc = accuracy_score(y_test, y_pred)\n",
    "roc_auc = roc_auc_score(y_test, y_proba)\n",
    "precision, recall, _ = precision_recall_curve(y_test, y_proba)\n",
    "pr_auc = auc(recall, precision)\n",
    "\n",
    "print(f\"Accuracy: {acc:.4f}\")\n",
    "print(f\"ROC-AUC Score: {roc_auc:.4f}\")\n",
    "print(f\"Precision-Recall AUC: {pr_auc:.4f}\")\n",
    "print(\"\\nClassification Report:\\n\", classification_report(y_test, y_pred))\n",
    "\n",
    "# Confusion Matrix\n",
    "plt.figure(figsize=(5,4))\n",
    "sns.heatmap(confusion_matrix(y_test, y_pred), annot=True, fmt=\"d\", cmap=\"Blues\", cbar=False)\n",
    "plt.title(\"Confusion Matrix\")\n",
    "plt.xlabel(\"Predicted\")\n",
    "plt.ylabel(\"Actual\")\n",
    "plt.show()\n",
    "\n",
    "# Precision-Recall Curve\n",
    "plt.figure(figsize=(6,4))\n",
    "plt.plot(recall, precision, marker='.', label=f'PR AUC = {pr_auc:.2f}')\n",
    "plt.title('Precision-Recall Curve')\n",
    "plt.xlabel('Recall')\n",
    "plt.ylabel('Precision')\n",
    "plt.legend()\n",
    "plt.grid()\n",
    "plt.tight_layout()\n",
    "plt.show()"
   ]
  },
  {
   "cell_type": "code",
   "execution_count": null,
   "id": "4890a23e",
   "metadata": {},
   "outputs": [],
   "source": []
  }
 ],
 "metadata": {
  "kernelspec": {
   "display_name": "venv",
   "language": "python",
   "name": "python3"
  },
  "language_info": {
   "codemirror_mode": {
    "name": "ipython",
    "version": 3
   },
   "file_extension": ".py",
   "mimetype": "text/x-python",
   "name": "python",
   "nbconvert_exporter": "python",
   "pygments_lexer": "ipython3",
   "version": "3.10.16"
  }
 },
 "nbformat": 4,
 "nbformat_minor": 5
}
