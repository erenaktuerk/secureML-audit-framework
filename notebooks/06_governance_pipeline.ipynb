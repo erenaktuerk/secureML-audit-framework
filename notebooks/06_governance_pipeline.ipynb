{
 "cells": [
  {
   "cell_type": "markdown",
   "id": "4cd52c2c",
   "metadata": {},
   "source": [
    "# Cell 1 - Markdown\n",
    "\"\"\"\n",
    "# ⚙️ 06 – Governance Pipeline: Risk & Compliance for ML\n",
    "\n",
    "This notebook outlines a simplified, modular AI governance process for credit risk ML models.  \n",
    "It includes model metadata logging, risk classification, bias detection, explainability and basic audit traceability.\n",
    "\n",
    "These principles support regulatory compliance and internal accountability (e.g. under EU AI Act, BaFin, or ISO 42001).\n",
    "\"\"\""
   ]
  },
  {
   "cell_type": "code",
   "execution_count": 1,
   "id": "cdf6424d",
   "metadata": {},
   "outputs": [
    {
     "name": "stderr",
     "output_type": "stream",
     "text": [
      "c:\\Users\\eren_\\OneDrive\\Desktop\\secureML-audit-framework\\venv\\lib\\site-packages\\tqdm\\auto.py:21: TqdmWarning: IProgress not found. Please update jupyter and ipywidgets. See https://ipywidgets.readthedocs.io/en/stable/user_install.html\n",
      "  from .autonotebook import tqdm as notebook_tqdm\n"
     ]
    }
   ],
   "source": [
    "# Cell 2 - Code - Imports\n",
    "import pandas as pd\n",
    "import os\n",
    "os.chdir(\"..\")\n",
    "\n",
    "from src.data_loader import load_and_preprocess_data\n",
    "from src.model_trainer import train_model\n",
    "from src.risk_assessment import classify_model_risk, detect_bias\n",
    "from src.governance import log_model_metadata, generate_audit_entry"
   ]
  },
  {
   "cell_type": "code",
   "execution_count": 2,
   "id": "9702c610",
   "metadata": {},
   "outputs": [
    {
     "name": "stderr",
     "output_type": "stream",
     "text": [
      "Downloading artifacts: 100%|██████████| 7/7 [00:00<00:00, 789.10it/s]\n"
     ]
    }
   ],
   "source": [
    "# Cell 3 - Code - Load data and train model with dtype fix for integer columns\n",
    "\n",
    "import pandas as pd\n",
    "import numpy as np\n",
    "\n",
    "columns = [\"Age\", \"Sex\", \"Job\", \"Housing\", \"Saving accounts\", \"Checking account\", \"Credit amount\", \"Duration\", \"Purpose\"]\n",
    "\n",
    "X_train_np, X_test_np, y_train_np, y_test_np = load_and_preprocess_data()\n",
    "\n",
    "X_train = pd.DataFrame(X_train_np, columns=columns)\n",
    "X_test = pd.DataFrame(X_test_np, columns=columns)\n",
    "\n",
    "# Convert all integer columns in X_train and X_test to float64\n",
    "for df in [X_train, X_test]:\n",
    "    int_cols = df.select_dtypes(include=['int32', 'int64']).columns\n",
    "    for col in int_cols:\n",
    "        df[col] = df[col].astype(np.float64)\n",
    "\n",
    "# Convert y_train and y_test to Series if not already, and convert to float64 if int\n",
    "y_train = pd.Series(y_train_np)\n",
    "y_test = pd.Series(y_test_np)\n",
    "\n",
    "if y_train.dtype in ['int32', 'int64']:\n",
    "    y_train = y_train.astype(np.float64)\n",
    "if y_test.dtype in ['int32', 'int64']:\n",
    "    y_test = y_test.astype(np.float64)\n",
    "\n",
    "model = train_model(X_train, y_train)"
   ]
  },
  {
   "cell_type": "markdown",
   "id": "e10199e5",
   "metadata": {},
   "source": [
    "# Cell 4 - Markdown - Log Model Metadata (Traceability)\n",
    "\"\"\"\n",
    "### 1. Log Model Metadata (Traceability)\n",
    "\"\"\""
   ]
  },
  {
   "cell_type": "code",
   "execution_count": 3,
   "id": "28c64966",
   "metadata": {},
   "outputs": [
    {
     "name": "stdout",
     "output_type": "stream",
     "text": [
      "Model metadata logged.\n"
     ]
    }
   ],
   "source": [
    "# Cell 5 - Code - Log key metadata for governance report\n",
    "log_model_metadata(\n",
    "    model_name=\"RandomForestClassifier\",\n",
    "    version=\"1.0\",\n",
    "    data_source=\"German Credit Risk\",\n",
    "    owner=\"ML Security Analyst\",\n",
    "    purpose=\"Credit risk scoring\"\n",
    ")"
   ]
  },
  {
   "cell_type": "markdown",
   "id": "e729a6e7",
   "metadata": {},
   "source": [
    "# Cell 6 - Markdown - Classify Model Risk\n",
    "\"\"\"\n",
    "### 2. Classify Model Risk (e.g. per EU AI Act)\n",
    "\"\"\""
   ]
  },
  {
   "cell_type": "code",
   "execution_count": 4,
   "id": "9480d063",
   "metadata": {},
   "outputs": [
    {
     "name": "stdout",
     "output_type": "stream",
     "text": [
      "Risk classification: High Risk (EU AI Act – Annex III)\n"
     ]
    }
   ],
   "source": [
    "# Cell 7 - Code - Risk classification\n",
    "risk_level = classify_model_risk(\n",
    "    purpose=\"credit_scoring\",\n",
    "    sensitive_features=[\"Sex\", \"Age\"]\n",
    ")\n",
    "print(\"Risk classification:\", risk_level)\n"
   ]
  },
  {
   "cell_type": "markdown",
   "id": "3cbc04e0",
   "metadata": {},
   "source": [
    "# Cell 8 - Markdown - Fairness & Bias Detection\n",
    "\"\"\"\n",
    "### 3. Fairness & Bias Detection (e.g. demographic parity)\n",
    "\"\"\""
   ]
  },
  {
   "cell_type": "code",
   "execution_count": 5,
   "id": "80cae201",
   "metadata": {},
   "outputs": [],
   "source": [
    "# Cell 8 - Code - Convert X_test to DataFrame\n",
    "import pandas as pd\n",
    "\n",
    "columns = [\"Age\", \"Sex\", \"Job\", \"Housing\", \"Saving accounts\", \"Checking account\", \"Credit amount\", \"Duration\", \"Purpose\"]\n",
    "X_test_df = pd.DataFrame(X_test, columns=columns)"
   ]
  },
  {
   "cell_type": "code",
   "execution_count": 6,
   "id": "1c901fe6",
   "metadata": {},
   "outputs": [
    {
     "data": {
      "text/plain": [
       "{np.float64(0.6702800625998365): 0.625, np.float64(-1.4919136877222166): 0.556}"
      ]
     },
     "execution_count": 6,
     "metadata": {},
     "output_type": "execute_result"
    }
   ],
   "source": [
    "# Cell 9 - Code - Bias detection report\n",
    "# Ensure y_test is a pandas Series with the same index as X_test_df\n",
    "y_test_series = pd.Series(y_test, index=X_test_df.index)\n",
    "\n",
    "# Remove rows with NaN values in either y_test_series or any column in X_test_df\n",
    "mask = y_test_series.notna() & X_test_df.notna().all(axis=1)\n",
    "\n",
    "# Filter X_test_df and y_test_series with the mask to keep only clean rows\n",
    "X_test_clean = X_test_df[mask]\n",
    "y_test_clean = y_test_series[mask]\n",
    "\n",
    "# Call detect_bias with cleaned data\n",
    "bias_report = detect_bias(\n",
    "    X_test_clean,\n",
    "    y_test_clean,\n",
    "    sensitive_feature=\"Sex\",\n",
    "    model=model\n",
    ")\n",
    "\n",
    "bias_report"
   ]
  },
  {
   "cell_type": "markdown",
   "id": "b8aab34a",
   "metadata": {},
   "source": [
    "# Cell 10 - Markdown - Create audit entry\n",
    "\"\"\"\n",
    "### 4. Create audit entry  \n",
    "Generate an auditable JSON log that can be stored in GRC tools.\n",
    "\"\"\""
   ]
  },
  {
   "cell_type": "code",
   "execution_count": 7,
   "id": "6e47b9b2",
   "metadata": {},
   "outputs": [
    {
     "name": "stdout",
     "output_type": "stream",
     "text": [
      "Audit entry generated.\n"
     ]
    }
   ],
   "source": [
    "# Cell 11 - Code - Generate audit entry\n",
    "generate_audit_entry(\n",
    "    model_name=\"RandomForestClassifier\",\n",
    "    risk_level=risk_level,\n",
    "    bias=bias_report\n",
    ")"
   ]
  },
  {
   "cell_type": "markdown",
   "id": "f285434c",
   "metadata": {},
   "source": [
    "# Cell 12 - Markdown - Summary\n",
    "\"\"\"\n",
    "## Summary\n",
    "\n",
    "- Logged metadata for traceability  \n",
    "- Classified model risk based on usage & sensitivity  \n",
    "- Detected potential bias based on demographic group  \n",
    "- Generated audit entry for review/compliance  \n",
    "\n",
    "This pipeline demonstrates a governance layer on top of any AI system – especially valuable in finance and regulated industries.\n",
    "\"\"\""
   ]
  }
 ],
 "metadata": {
  "kernelspec": {
   "display_name": "venv",
   "language": "python",
   "name": "python3"
  },
  "language_info": {
   "codemirror_mode": {
    "name": "ipython",
    "version": 3
   },
   "file_extension": ".py",
   "mimetype": "text/x-python",
   "name": "python",
   "nbconvert_exporter": "python",
   "pygments_lexer": "ipython3",
   "version": "3.10.16"
  }
 },
 "nbformat": 4,
 "nbformat_minor": 5
}
