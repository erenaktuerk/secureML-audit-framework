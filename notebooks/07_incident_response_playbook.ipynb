{
 "cells": [
  {
   "cell_type": "markdown",
   "id": "977317dd",
   "metadata": {},
   "source": [
    "# Cell 1 - Markdown - Title and Introduction\n",
    "\"\"\"\n",
    "# 07 – Incident Response Playbook for ML Security\n",
    "\n",
    "This notebook demonstrates a structured incident response playbook tailored for machine learning security incidents.\n",
    "\n",
    "It includes:\n",
    "- Incident detection and classification\n",
    "- Containment and mitigation steps\n",
    "- Root cause analysis\n",
    "- Post-incident reporting\n",
    "\n",
    "The goal is to provide a reproducible and auditable framework for ML security incident management.\n",
    "\"\"\""
   ]
  },
  {
   "cell_type": "markdown",
   "id": "1181ce03",
   "metadata": {},
   "source": [
    "# Cell 2 - Markdown - Imports\n",
    "\"\"\"\n",
    "## Imports and Setup\n",
    "\"\"\""
   ]
  },
  {
   "cell_type": "code",
   "execution_count": 1,
   "id": "2a52a68a",
   "metadata": {},
   "outputs": [
    {
     "data": {
      "text/plain": [
       "'\\n## Imports and Setup\\n'"
      ]
     },
     "execution_count": 1,
     "metadata": {},
     "output_type": "execute_result"
    }
   ],
   "source": [
    "# Cell 2 - Markdown - Imports\n",
    "\"\"\"\n",
    "## Imports and Setup\n",
    "\"\"\""
   ]
  },
  {
   "cell_type": "code",
   "execution_count": 2,
   "id": "23de6f35",
   "metadata": {},
   "outputs": [
    {
     "name": "stderr",
     "output_type": "stream",
     "text": [
      "c:\\Users\\eren_\\OneDrive\\Desktop\\secureML-audit-framework\\venv\\lib\\site-packages\\tqdm\\auto.py:21: TqdmWarning: IProgress not found. Please update jupyter and ipywidgets. See https://ipywidgets.readthedocs.io/en/stable/user_install.html\n",
      "  from .autonotebook import tqdm as notebook_tqdm\n"
     ]
    }
   ],
   "source": [
    "# Cell 3 - Code - Imports\n",
    "import json\n",
    "import datetime\n",
    "import pandas as pd\n",
    "import os\n",
    "os.chdir(\"..\")\n",
    "from src.governance import generate_audit_entry  # assuming this handles audit logging\n"
   ]
  },
  {
   "cell_type": "markdown",
   "id": "0ea47389",
   "metadata": {},
   "source": [
    "# Cell 4 - Markdown - Simulated Incident Input\n",
    "\"\"\"\n",
    "## 1. Simulate Incident Detection\n",
    "\n",
    "For demonstration, we simulate an incident event detected by monitoring tools.\n",
    "\"\"\""
   ]
  },
  {
   "cell_type": "code",
   "execution_count": 3,
   "id": "1556339d",
   "metadata": {},
   "outputs": [
    {
     "name": "stdout",
     "output_type": "stream",
     "text": [
      "Incident detected:\n",
      "{\n",
      "    \"incident_id\": \"INC-20250629-001\",\n",
      "    \"timestamp\": \"2025-06-29T19:31:10.591596\",\n",
      "    \"detected_by\": \"Automated ML Monitoring\",\n",
      "    \"severity\": \"High\",\n",
      "    \"description\": \"Unusual prediction distribution detected in production model, potential data poisoning attack.\",\n",
      "    \"affected_model\": \"RandomForestClassifier\",\n",
      "    \"affected_version\": \"1.0\"\n",
      "}\n"
     ]
    }
   ],
   "source": [
    "# Cell 5 - Code - Simulate incident data\n",
    "incident_event = {\n",
    "    \"incident_id\": \"INC-20250629-001\",\n",
    "    \"timestamp\": datetime.datetime.now().isoformat(),\n",
    "    \"detected_by\": \"Automated ML Monitoring\",\n",
    "    \"severity\": \"High\",\n",
    "    \"description\": \"Unusual prediction distribution detected in production model, potential data poisoning attack.\",\n",
    "    \"affected_model\": \"RandomForestClassifier\",\n",
    "    \"affected_version\": \"1.0\"\n",
    "}\n",
    "\n",
    "print(\"Incident detected:\")\n",
    "print(json.dumps(incident_event, indent=4))"
   ]
  },
  {
   "cell_type": "markdown",
   "id": "5f2032b4",
   "metadata": {},
   "source": [
    "# Cell 6 - Markdown - Incident Classification\n",
    "\"\"\"\n",
    "## 2. Incident Classification\n",
    "\n",
    "Categorize incident severity, type, and impact.\n",
    "\"\"\""
   ]
  },
  {
   "cell_type": "code",
   "execution_count": 4,
   "id": "d12d9d53",
   "metadata": {},
   "outputs": [
    {
     "name": "stdout",
     "output_type": "stream",
     "text": [
      "Incident severity class: Critical\n"
     ]
    }
   ],
   "source": [
    "# Cell 7 - Code - Incident classification logic\n",
    "def classify_incident(event):\n",
    "    if event[\"severity\"] == \"High\":\n",
    "        return \"Critical\"\n",
    "    elif event[\"severity\"] == \"Medium\":\n",
    "        return \"Moderate\"\n",
    "    else:\n",
    "        return \"Low\"\n",
    "\n",
    "incident_severity_class = classify_incident(incident_event)\n",
    "print(f\"Incident severity class: {incident_severity_class}\")\n"
   ]
  },
  {
   "cell_type": "markdown",
   "id": "4334fe1b",
   "metadata": {},
   "source": [
    "# Cell 8 - Markdown - Containment & Mitigation\n",
    "\"\"\"\n",
    "## 3. Containment & Mitigation\n",
    "\n",
    "Outline steps to contain the incident and mitigate risk.\n",
    "\"\"\""
   ]
  },
  {
   "cell_type": "code",
   "execution_count": 5,
   "id": "639f44c3",
   "metadata": {},
   "outputs": [
    {
     "name": "stdout",
     "output_type": "stream",
     "text": [
      "Containment actions to perform:\n",
      "- Disable affected model's prediction endpoint\n",
      "- Notify ML security team and relevant stakeholders\n",
      "- Revert to previous stable model version\n",
      "- Increase monitoring frequency and alerts\n"
     ]
    }
   ],
   "source": [
    "# Cell 9 - Code - Containment plan example\n",
    "containment_actions = [\n",
    "    \"Disable affected model's prediction endpoint\",\n",
    "    \"Notify ML security team and relevant stakeholders\",\n",
    "    \"Revert to previous stable model version\",\n",
    "    \"Increase monitoring frequency and alerts\"\n",
    "]\n",
    "\n",
    "print(\"Containment actions to perform:\")\n",
    "for step in containment_actions:\n",
    "    print(f\"- {step}\")\n",
    "\n"
   ]
  },
  {
   "cell_type": "markdown",
   "id": "a8fbfc01",
   "metadata": {},
   "source": [
    "# Cell 10 - Markdown - Root Cause Analysis\n",
    "\"\"\"\n",
    "## 4. Root Cause Analysis\n",
    "\n",
    "Document findings from initial analysis.\n",
    "\"\"\""
   ]
  },
  {
   "cell_type": "code",
   "execution_count": 6,
   "id": "00432e93",
   "metadata": {},
   "outputs": [
    {
     "name": "stdout",
     "output_type": "stream",
     "text": [
      "Root cause analysis report:\n",
      "{\n",
      "    \"analysis_date\": \"2025-06-29T19:31:10.657276\",\n",
      "    \"root_cause\": \"Data poisoning through adversarial input injection detected in training data stream.\",\n",
      "    \"evidence\": [\n",
      "        \"Unusual feature distribution in latest batch\",\n",
      "        \"Spike in error rates detected by monitoring\",\n",
      "        \"External logs show suspicious data source\"\n",
      "    ],\n",
      "    \"recommendations\": [\n",
      "        \"Implement stricter data validation\",\n",
      "        \"Enhance data provenance tracking\",\n",
      "        \"Train model with adversarial robustness techniques\"\n",
      "    ]\n",
      "}\n"
     ]
    }
   ],
   "source": [
    "# Cell 11 - Code - Root cause analysis example\n",
    "root_cause_report = {\n",
    "    \"analysis_date\": datetime.datetime.now().isoformat(),\n",
    "    \"root_cause\": \"Data poisoning through adversarial input injection detected in training data stream.\",\n",
    "    \"evidence\": [\n",
    "        \"Unusual feature distribution in latest batch\",\n",
    "        \"Spike in error rates detected by monitoring\",\n",
    "        \"External logs show suspicious data source\"\n",
    "    ],\n",
    "    \"recommendations\": [\n",
    "        \"Implement stricter data validation\",\n",
    "        \"Enhance data provenance tracking\",\n",
    "        \"Train model with adversarial robustness techniques\"\n",
    "    ]\n",
    "}\n",
    "\n",
    "print(\"Root cause analysis report:\")\n",
    "print(json.dumps(root_cause_report, indent=4))"
   ]
  },
  {
   "cell_type": "markdown",
   "id": "df1eea3e",
   "metadata": {},
   "source": [
    "# Cell 12 - Markdown - Post-Incident Reporting\n",
    "\"\"\"\n",
    "## 5. Post-Incident Reporting & Audit Logging\n",
    "\n",
    "Log incident details and response actions for compliance and future reference.\n",
    "\"\"\"\n"
   ]
  },
  {
   "cell_type": "code",
   "execution_count": 8,
   "id": "34263578",
   "metadata": {},
   "outputs": [
    {
     "name": "stdout",
     "output_type": "stream",
     "text": [
      "Audit entry saved locally as audit_entry_INC-20250629-001.json\n"
     ]
    }
   ],
   "source": [
    "# Cell 13 - Code - Generate audit entry (local JSON save, no API key needed)\n",
    "import json\n",
    "import datetime\n",
    "\n",
    "audit_entry = {\n",
    "    \"incident_id\": incident_event[\"incident_id\"],\n",
    "    \"model_name\": incident_event[\"affected_model\"],\n",
    "    \"model_version\": incident_event[\"affected_version\"],\n",
    "    \"incident_severity\": incident_severity_class,\n",
    "    \"incident_description\": incident_event[\"description\"],\n",
    "    \"containment_actions\": containment_actions,\n",
    "    \"root_cause_report\": root_cause_report,\n",
    "    \"timestamp\": datetime.datetime.now().isoformat()\n",
    "}\n",
    "\n",
    "# Save audit entry as JSON file locally\n",
    "filename = f\"audit_entry_{audit_entry['incident_id']}.json\"\n",
    "with open(filename, \"w\") as f:\n",
    "    json.dump(audit_entry, f, indent=4)\n",
    "\n",
    "print(f\"Audit entry saved locally as {filename}\")\n"
   ]
  },
  {
   "cell_type": "markdown",
   "id": "7f9e3597",
   "metadata": {},
   "source": [
    "# Cell 14 - Markdown - Summary\n",
    "\"\"\"\n",
    "# Summary\n",
    "\n",
    "- Simulated a high-severity ML security incident.\n",
    "- Classified incident severity.\n",
    "- Defined containment and mitigation steps.\n",
    "- Conducted root cause analysis.\n",
    "- Created audit log entry for governance and compliance.\n",
    "\n",
    "This playbook can be extended and integrated with automated monitoring and response systems for operational ML security.\n",
    "\"\"\""
   ]
  }
 ],
 "metadata": {
  "kernelspec": {
   "display_name": "venv",
   "language": "python",
   "name": "python3"
  },
  "language_info": {
   "codemirror_mode": {
    "name": "ipython",
    "version": 3
   },
   "file_extension": ".py",
   "mimetype": "text/x-python",
   "name": "python",
   "nbconvert_exporter": "python",
   "pygments_lexer": "ipython3",
   "version": "3.10.16"
  }
 },
 "nbformat": 4,
 "nbformat_minor": 5
}
